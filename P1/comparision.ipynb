{
 "cells": [
  {
   "cell_type": "markdown",
   "source": [
    "# Compare results\n"
   ],
   "metadata": {
    "collapsed": false
   },
   "id": "41f54544998251eb"
  },
  {
   "cell_type": "markdown",
   "source": [
    "## Needleman wunsch and smith waterman (implementation)"
   ],
   "metadata": {
    "collapsed": false
   },
   "id": "17e1d713d6cd43f2"
  },
  {
   "cell_type": "code",
   "execution_count": 1,
   "outputs": [
    {
     "name": "stdout",
     "output_type": "stream",
     "text": [
      "Global alignment no 1:\n",
      "-ATAT\n",
      "TATA-\n",
      "Score: -1\n",
      "\n",
      "Global alignment no 2:\n",
      "ATAT-\n",
      "-TATA\n",
      "Score: -1\n",
      "\n",
      "Local alignment no 1:\n",
      "ATA\n",
      "ATA\n",
      "Score: 3\n",
      "\n",
      "Local alignment no 2:\n",
      "TAT\n",
      "TAT\n",
      "Score: 3\n",
      "\n",
      "----------------------------------------------------------------------------------------------------\n",
      "Global alignment no 1:\n",
      "--GGATGCC\n",
      "TAGGAT-CC\n",
      "Score: 0\n",
      "\n",
      "Local alignment no 1:\n",
      "GGAT\n",
      "GGAT\n",
      "Score: 4\n",
      "\n",
      "Local alignment no 2:\n",
      "GGATGC\n",
      "GGATCC\n",
      "Score: 4\n",
      "\n",
      "Local alignment no 3:\n",
      "GGATGCC\n",
      "GGAT-CC\n",
      "Score: 4\n",
      "\n",
      "----------------------------------------------------------------------------------------------------\n",
      "Global alignment no 1:\n",
      "ATTGCCGAATAAGCGC\n",
      "AAGGCATGGTTA--G-\n",
      "Score: -7\n",
      "\n",
      "Global alignment no 2:\n",
      "ATTGCCGAATAAGCGC\n",
      "AAGGCATGGTTAG---\n",
      "Score: -7\n",
      "\n",
      "Local alignment no 1:\n",
      "AAG\n",
      "AAG\n",
      "Score: 3\n",
      "\n",
      "Local alignment no 2:\n",
      "AAGCGC\n",
      "AAG-GC\n",
      "Score: 3\n",
      "\n",
      "----------------------------------------------------------------------------------------------------\n"
     ]
    }
   ],
   "source": [
    " # parameters\n",
    "from utils import find_local_alignments, find_global_alignments\n",
    "import pandas as pd\n",
    "\n",
    "FILEPATH = \"data/substitution_matrix_2.csv\"\n",
    "OUTPUT_FILEPATH = \"data/output.log\"\n",
    "substitution_matrix = pd.read_csv(FILEPATH).to_numpy()\n",
    "gap_penalty = -2\n",
    "n = 3\n",
    "\n",
    "for seq1, seq2 in [(\"ATAT\", \"TATA\"), (\"GGATGCC\", \"TAGGATCC\"), (\"ATTGCCGAATAAGCGC\", \"AAGGCATGGTTAG\")]:\n",
    "    # Find n maximal global alignments\n",
    "    global_alignments, global_score = find_global_alignments(seq1, seq2, substitution_matrix, gap_penalty, n)\n",
    "    for i, alignment in enumerate(global_alignments):\n",
    "        print(f\"Global alignment no {i+1}:\\n{alignment[0]}\\n{alignment[1]}\\nScore: {global_score}\\n\")\n",
    "    \n",
    "    # Find n maximal local alignments\n",
    "    local_alignments, local_score = find_local_alignments(seq1, seq2, substitution_matrix, gap_penalty, n)\n",
    "    for i, alignment in enumerate(local_alignments):\n",
    "        print(f\"Local alignment no {i+1}:\\n{alignment[0]}\\n{alignment[1]}\\nScore: {local_score}\\n\")\n",
    "        \n",
    "    print(\"-\"*100)\n"
   ],
   "metadata": {
    "collapsed": false,
    "ExecuteTime": {
     "end_time": "2024-10-28T05:46:20.852759865Z",
     "start_time": "2024-10-28T05:46:20.555743527Z"
    }
   },
   "id": "40bb391bec3d3939"
  },
  {
   "cell_type": "markdown",
   "source": [
    "## Needleman wunsch (https://bioboot.github.io/bimm143_W20/class-material/nw/)\n",
    "<img title=\"a title\" alt=\"Alt text\" src=\"/home/jacek/PycharmProjects/bioinformatics/P1/calculator_results/Screenshot from 2024-10-28 06-11-33.png\">\n"
   ],
   "metadata": {
    "collapsed": false
   },
   "id": "bb57c0a43aaeadbb"
  },
  {
   "cell_type": "markdown",
   "source": [
    "## Needleman wunsch (https://bioboot.github.io/bimm143_W20/class-material/nw/)\n",
    "<img title=\"a title\" alt=\"Alt text\" src=\"/home/jacek/PycharmProjects/bioinformatics/P1/calculator_results/img.png\">\n"
   ],
   "metadata": {
    "collapsed": false
   },
   "id": "d749a0c6e241dc8f"
  },
  {
   "cell_type": "markdown",
   "source": [
    "## Needleman wunsch (https://bioboot.github.io/bimm143_W20/class-material/nw/)\n",
    "<img title=\"a title\" alt=\"Alt text\" src=\"/home/jacek/PycharmProjects/bioinformatics/P1/calculator_results/img_3.png\">\n"
   ],
   "metadata": {
    "collapsed": false
   },
   "id": "1dd069311f1485f1"
  },
  {
   "cell_type": "markdown",
   "source": [
    "## Smith waterman (http://rna.informatik.uni-freiburg.de/Teaching/index.jsp?toolName=Smith-Waterman)\n",
    "<img title=\"a title\" alt=\"Alt text\" src=\"/home/jacek/PycharmProjects/bioinformatics/P1/calculator_results/img_1.png\">\n"
   ],
   "metadata": {
    "collapsed": false
   },
   "id": "9328cc129171df54"
  },
  {
   "cell_type": "markdown",
   "source": [
    "## Smith waterman (http://rna.informatik.uni-freiburg.de/Teaching/index.jsp?toolName=Smith-Waterman)\n",
    "<img title=\"a title\" alt=\"Alt text\" src=\"/home/jacek/PycharmProjects/bioinformatics/P1/calculator_results/img_2.png\">\n"
   ],
   "metadata": {
    "collapsed": false
   },
   "id": "29001a42fd6f0c92"
  },
  {
   "cell_type": "markdown",
   "source": [
    "## Smith waterman (http://rna.informatik.uni-freiburg.de/Teaching/index.jsp?toolName=Smith-Waterman)\n",
    "<img title=\"a title\" alt=\"Alt text\" src=\"/home/jacek/PycharmProjects/bioinformatics/P1/calculator_results/img_4.png\">\n"
   ],
   "metadata": {
    "collapsed": false
   },
   "id": "89e73f077e0f83b6"
  }
 ],
 "metadata": {
  "kernelspec": {
   "display_name": "Python 3",
   "language": "python",
   "name": "python3"
  },
  "language_info": {
   "codemirror_mode": {
    "name": "ipython",
    "version": 2
   },
   "file_extension": ".py",
   "mimetype": "text/x-python",
   "name": "python",
   "nbconvert_exporter": "python",
   "pygments_lexer": "ipython2",
   "version": "2.7.6"
  }
 },
 "nbformat": 4,
 "nbformat_minor": 5
}
